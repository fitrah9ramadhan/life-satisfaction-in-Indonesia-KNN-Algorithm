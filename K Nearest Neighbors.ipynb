{
 "cells": [
  {
   "cell_type": "code",
   "execution_count": 59,
   "metadata": {},
   "outputs": [],
   "source": [
    "import pandas as pd\n",
    "from sklearn.model_selection import train_test_split\n",
    "from sklearn import neighbors"
   ]
  },
  {
   "cell_type": "code",
   "execution_count": 179,
   "metadata": {},
   "outputs": [],
   "source": [
    "data = pd.read_csv(\"data_fix.csv\", index_col = 0)"
   ]
  },
  {
   "cell_type": "code",
   "execution_count": 180,
   "metadata": {},
   "outputs": [
    {
     "data": {
      "text/html": [
       "<div>\n",
       "<style scoped>\n",
       "    .dataframe tbody tr th:only-of-type {\n",
       "        vertical-align: middle;\n",
       "    }\n",
       "\n",
       "    .dataframe tbody tr th {\n",
       "        vertical-align: top;\n",
       "    }\n",
       "\n",
       "    .dataframe thead th {\n",
       "        text-align: right;\n",
       "    }\n",
       "</style>\n",
       "<table border=\"1\" class=\"dataframe\">\n",
       "  <thead>\n",
       "    <tr style=\"text-align: right;\">\n",
       "      <th></th>\n",
       "      <th>self_own_assets</th>\n",
       "      <th>poor_level</th>\n",
       "      <th>poor_level_5y_ago</th>\n",
       "      <th>poor_level_5y_later</th>\n",
       "      <th>job_satisfaction</th>\n",
       "      <th>working hours</th>\n",
       "      <th>life_satisfaction</th>\n",
       "    </tr>\n",
       "  </thead>\n",
       "  <tbody>\n",
       "    <tr>\n",
       "      <th>0</th>\n",
       "      <td>1</td>\n",
       "      <td>1.0</td>\n",
       "      <td>1.0</td>\n",
       "      <td>1.0</td>\n",
       "      <td>2.0</td>\n",
       "      <td>56.0</td>\n",
       "      <td>3.0</td>\n",
       "    </tr>\n",
       "    <tr>\n",
       "      <th>1</th>\n",
       "      <td>1</td>\n",
       "      <td>1.0</td>\n",
       "      <td>1.0</td>\n",
       "      <td>1.0</td>\n",
       "      <td>2.0</td>\n",
       "      <td>56.0</td>\n",
       "      <td>3.0</td>\n",
       "    </tr>\n",
       "    <tr>\n",
       "      <th>2</th>\n",
       "      <td>1</td>\n",
       "      <td>1.0</td>\n",
       "      <td>1.0</td>\n",
       "      <td>1.0</td>\n",
       "      <td>2.0</td>\n",
       "      <td>56.0</td>\n",
       "      <td>3.0</td>\n",
       "    </tr>\n",
       "    <tr>\n",
       "      <th>3</th>\n",
       "      <td>1</td>\n",
       "      <td>1.0</td>\n",
       "      <td>1.0</td>\n",
       "      <td>1.0</td>\n",
       "      <td>2.0</td>\n",
       "      <td>56.0</td>\n",
       "      <td>3.0</td>\n",
       "    </tr>\n",
       "    <tr>\n",
       "      <th>4</th>\n",
       "      <td>1</td>\n",
       "      <td>1.0</td>\n",
       "      <td>1.0</td>\n",
       "      <td>1.0</td>\n",
       "      <td>3.0</td>\n",
       "      <td>12.0</td>\n",
       "      <td>4.0</td>\n",
       "    </tr>\n",
       "    <tr>\n",
       "      <th>...</th>\n",
       "      <td>...</td>\n",
       "      <td>...</td>\n",
       "      <td>...</td>\n",
       "      <td>...</td>\n",
       "      <td>...</td>\n",
       "      <td>...</td>\n",
       "      <td>...</td>\n",
       "    </tr>\n",
       "    <tr>\n",
       "      <th>734</th>\n",
       "      <td>1</td>\n",
       "      <td>1.0</td>\n",
       "      <td>1.0</td>\n",
       "      <td>1.0</td>\n",
       "      <td>2.0</td>\n",
       "      <td>8.0</td>\n",
       "      <td>4.0</td>\n",
       "    </tr>\n",
       "    <tr>\n",
       "      <th>735</th>\n",
       "      <td>1</td>\n",
       "      <td>1.0</td>\n",
       "      <td>1.0</td>\n",
       "      <td>1.0</td>\n",
       "      <td>2.0</td>\n",
       "      <td>8.0</td>\n",
       "      <td>4.0</td>\n",
       "    </tr>\n",
       "    <tr>\n",
       "      <th>736</th>\n",
       "      <td>1</td>\n",
       "      <td>1.0</td>\n",
       "      <td>1.0</td>\n",
       "      <td>1.0</td>\n",
       "      <td>2.0</td>\n",
       "      <td>8.0</td>\n",
       "      <td>4.0</td>\n",
       "    </tr>\n",
       "    <tr>\n",
       "      <th>737</th>\n",
       "      <td>1</td>\n",
       "      <td>1.0</td>\n",
       "      <td>1.0</td>\n",
       "      <td>1.0</td>\n",
       "      <td>2.0</td>\n",
       "      <td>21.0</td>\n",
       "      <td>5.0</td>\n",
       "    </tr>\n",
       "    <tr>\n",
       "      <th>738</th>\n",
       "      <td>1</td>\n",
       "      <td>1.0</td>\n",
       "      <td>1.0</td>\n",
       "      <td>1.0</td>\n",
       "      <td>2.0</td>\n",
       "      <td>21.0</td>\n",
       "      <td>5.0</td>\n",
       "    </tr>\n",
       "  </tbody>\n",
       "</table>\n",
       "<p>739 rows × 7 columns</p>\n",
       "</div>"
      ],
      "text/plain": [
       "     self_own_assets  poor_level  poor_level_5y_ago  poor_level_5y_later  \\\n",
       "0                  1         1.0                1.0                  1.0   \n",
       "1                  1         1.0                1.0                  1.0   \n",
       "2                  1         1.0                1.0                  1.0   \n",
       "3                  1         1.0                1.0                  1.0   \n",
       "4                  1         1.0                1.0                  1.0   \n",
       "..               ...         ...                ...                  ...   \n",
       "734                1         1.0                1.0                  1.0   \n",
       "735                1         1.0                1.0                  1.0   \n",
       "736                1         1.0                1.0                  1.0   \n",
       "737                1         1.0                1.0                  1.0   \n",
       "738                1         1.0                1.0                  1.0   \n",
       "\n",
       "     job_satisfaction  working hours  life_satisfaction  \n",
       "0                 2.0           56.0                3.0  \n",
       "1                 2.0           56.0                3.0  \n",
       "2                 2.0           56.0                3.0  \n",
       "3                 2.0           56.0                3.0  \n",
       "4                 3.0           12.0                4.0  \n",
       "..                ...            ...                ...  \n",
       "734               2.0            8.0                4.0  \n",
       "735               2.0            8.0                4.0  \n",
       "736               2.0            8.0                4.0  \n",
       "737               2.0           21.0                5.0  \n",
       "738               2.0           21.0                5.0  \n",
       "\n",
       "[739 rows x 7 columns]"
      ]
     },
     "execution_count": 180,
     "metadata": {},
     "output_type": "execute_result"
    }
   ],
   "source": [
    "data"
   ]
  },
  {
   "cell_type": "markdown",
   "metadata": {},
   "source": [
    "## Deskripsi data\n",
    "\n",
    "#### self_own_assets:\n",
    "1:Ya\n",
    "3:Tidak\n",
    "#### poor_level\n",
    "Paling Miskin 1-2-3-4-5-6 Paling Kaya\n",
    "#### poor_level_5y_ago\n",
    "Paling Miskin 1-2-3-4-5-6 Paling Kaya\n",
    "#### poor_level_5y_later\n",
    "Paling Miskin 1-2-3-4-5-6 Paling Kaya\n",
    "#### job_satisfaction\n",
    "1:Sangat Puas\n",
    "2:Puas\n",
    "3:Tidak Puas\n",
    "4:Sangat Tidak Puas\n",
    "#### working hours\n",
    "durasi bekerja total dalam seminggu\n",
    "#### life_satisfaction\n",
    "1: Amat sangat puas\n",
    "2: Sangat puas\n",
    "3: Agak puas\n",
    "4: Tidak puas\n",
    "5: Sangat tidak puas"
   ]
  },
  {
   "cell_type": "code",
   "execution_count": 181,
   "metadata": {},
   "outputs": [
    {
     "data": {
      "text/plain": [
       "0.8445945945945946"
      ]
     },
     "execution_count": 181,
     "metadata": {},
     "output_type": "execute_result"
    }
   ],
   "source": [
    "import numpy as np\n",
    "\n",
    "X = np.array(data_fix2.drop(['life_satisfaction'], 1))\n",
    "y = np.array(data_fix2['life_satisfaction'])\n",
    "X_train, X_test, y_train, y_test = train_test_split(X,y, random_state=42, test_size= 0.2)\n",
    "clf = neighbors.KNeighborsClassifier(n_neighbors = 3)\n",
    "clf.fit(X_train, y_train)\n",
    "clf.score(X_test, y_test)"
   ]
  },
  {
   "cell_type": "markdown",
   "metadata": {},
   "source": [
    "### contoh 1:\n",
    "- memiliki asset rumah tangga sendiri = 1\n",
    "- merasa paling kaya = 6\n",
    "- merasa paling kaya 5 tahun yang lalu = 6\n",
    "- akan merasa paling kaya 5 tahun yang akan datang = 6\n",
    "- sangat puas dengan pekerjaannya = 1\n",
    "- jam kerja 10 jam dalam seminggu = 10\n",
    "\n",
    "### contoh 2:\n",
    "- tidak memiliki asset rumah tangga sendiri = 3\n",
    "- merasa paling miskin = 1\n",
    "- merasa paling miskin 5 tahun yang lalu = 1\n",
    "- akan merasa paling miskin 5 tahun yang akan datang =1\n",
    "- tidak puas dengan pekerjaannya = 4\n",
    "- jam kerja 35 jam dalam seminggu = 45"
   ]
  },
  {
   "cell_type": "code",
   "execution_count": null,
   "metadata": {},
   "outputs": [],
   "source": []
  },
  {
   "cell_type": "code",
   "execution_count": 182,
   "metadata": {},
   "outputs": [],
   "source": [
    "example_measure = np.array([[1,6,6,6,1,10], [3,1,1,1,4,45]])\n",
    "#diperkirakan mendapat life_satisfaction yang tinggi yaitu angka 1 atau 2\n",
    "#diperkirakan mendapat life_satisfaction yang tinggi yaitu angka 4 atau 5"
   ]
  },
  {
   "cell_type": "code",
   "execution_count": 183,
   "metadata": {},
   "outputs": [],
   "source": [
    "prediction = clf.predict(example_measure)"
   ]
  },
  {
   "cell_type": "code",
   "execution_count": 184,
   "metadata": {},
   "outputs": [
    {
     "data": {
      "text/plain": [
       "array([2., 4.])"
      ]
     },
     "execution_count": 184,
     "metadata": {},
     "output_type": "execute_result"
    }
   ],
   "source": [
    "prediction"
   ]
  },
  {
   "cell_type": "markdown",
   "metadata": {},
   "source": [
    "#### contoh 1, memiliki life satisfaction 2 yaitu sangat puas\n",
    "#### contoh 2, memiliki life satisfaction 4 yaitu tidak puas"
   ]
  },
  {
   "cell_type": "code",
   "execution_count": null,
   "metadata": {},
   "outputs": [],
   "source": []
  },
  {
   "cell_type": "code",
   "execution_count": null,
   "metadata": {},
   "outputs": [],
   "source": []
  },
  {
   "cell_type": "code",
   "execution_count": null,
   "metadata": {},
   "outputs": [],
   "source": []
  }
 ],
 "metadata": {
  "kernelspec": {
   "display_name": "Python 3",
   "language": "python",
   "name": "python3"
  },
  "language_info": {
   "codemirror_mode": {
    "name": "ipython",
    "version": 3
   },
   "file_extension": ".py",
   "mimetype": "text/x-python",
   "name": "python",
   "nbconvert_exporter": "python",
   "pygments_lexer": "ipython3",
   "version": "3.7.6"
  }
 },
 "nbformat": 4,
 "nbformat_minor": 4
}
